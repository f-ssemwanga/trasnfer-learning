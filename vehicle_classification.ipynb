{
 "cells": [
  {
   "cell_type": "markdown",
   "metadata": {},
   "source": [
    "## Vehicle Type Classification Project\n",
    "\n",
    "In this notebook I will present how to perform classification of car brands.  I will be using different pre-trainied classifiers in Tensorflow 2.0 and Keras\n",
    "\n",
    "# Summary\n",
    "\n",
    "- **Name:** F Ssemwanga\n",
    "- **Date:** June 2023\n",
    "- **Use Case:** Vehicle Type\n",
    "- **Algorithm:** MobileNetV2\n",
    "- **Number of training images:** 603\n",
    "- **Number of classes:** 7\n",
    "- **Batch Size:** 64\n",
    "- **Optimizer:** Adam \n",
    "- **Learning Rate:** 0.0001\n",
    "- **Loss Type:**CategoricalCrossentropy\n",
    "- **Transfer Learning:** Yes | Imagenet\n",
    "\n",
    "**Comments:** I obtained 100% on the validation accuracy on vehicle types, on validation dataset.\n",
    "* [Tensor Flow Docs](https://www.tensorflow.org/api_docs/python/tf/keras/application)"
   ]
  },
  {
   "cell_type": "code",
   "execution_count": 2,
   "metadata": {},
   "outputs": [],
   "source": [
    "# Importing the required Libraries\n",
    "# import the necessary packages\n",
    "from tensorflow.keras.preprocessing.image import ImageDataGenerator\n",
    "from tensorflow.keras.layers import (\n",
    "    AveragePooling2D,\n",
    "    GlobalAveragePooling2D,\n",
    "    BatchNormalization,\n",
    ")\n",
    "\n",
    "# from tensorflow.keras.applications import ResNet50\n",
    "# from tensorflow.keras.applications import Xception\n",
    "from tensorflow.keras.applications import MobileNetV2\n",
    "from tensorflow.keras.layers import AveragePooling2D\n",
    "from tensorflow.keras.layers import Dropout\n",
    "from tensorflow.keras.layers import Flatten\n",
    "from tensorflow.keras.layers import Dense\n",
    "from tensorflow.keras.layers import Input\n",
    "from tensorflow.keras.models import Model\n",
    "from tensorflow.keras.optimizers import Adam\n",
    "from tensorflow.keras.optimizers import SGD\n",
    "from tensorflow.keras.utils import to_categorical\n",
    "from sklearn.preprocessing import LabelBinarizer\n",
    "from sklearn.model_selection import train_test_split\n",
    "from sklearn.metrics import classification_report\n",
    "from sklearn.metrics import confusion_matrix\n",
    "from imutils import paths\n",
    "import matplotlib.pyplot as plt\n",
    "import numpy as np\n",
    "import argparse\n",
    "import cv2\n",
    "import os\n",
    "import sys\n",
    "import tensorflow as tf\n",
    "import h5py\n",
    "import numpy as np\n",
    "import sys"
   ]
  },
  {
   "cell_type": "code",
   "execution_count": 3,
   "metadata": {},
   "outputs": [
    {
     "name": "stdout",
     "output_type": "stream",
     "text": [
      "2.16.1\n"
     ]
    }
   ],
   "source": [
    "print(tf.__version__)"
   ]
  },
  {
   "cell_type": "markdown",
   "metadata": {},
   "source": [
    "#### Setting the project paths"
   ]
  },
  {
   "cell_type": "code",
   "execution_count": 28,
   "metadata": {},
   "outputs": [],
   "source": [
    "def create_required_folders(project_path, model_type, folders):\n",
    "    try:\n",
    "        for folder in folders:\n",
    "            full_path = os.path.join(project_path, folder, model_type)\n",
    "            # Convert backslashes to forward slashes\n",
    "            full_path = full_path.replace(\"\\\\\", \"/\")\n",
    "            if not os.path.exists(full_path):\n",
    "                os.makedirs(full_path)\n",
    "                print(f\"Created folder: {full_path}\")\n",
    "            else:\n",
    "                print(f\"Folder already exists: {full_path}\")\n",
    "    except OSError as e:\n",
    "        print(f\"Error creating folder {full_path}: {e}\")"
   ]
  },
  {
   "cell_type": "code",
   "execution_count": 29,
   "metadata": {},
   "outputs": [
    {
     "name": "stdout",
     "output_type": "stream",
     "text": [
      "PROJECT_PATH: ./\n",
      "HDF5_DATASET_PATH: ./datasets/vehicle-type-dataset-SIZE224-train-dev-test-v2.hdf5\n",
      "ACCURACY_LOSS_OUTPUT_FILE: ./log/mobilenetv2/mobilenetv2-by-type-accuracy-loss-fs-1-2.jpg\n",
      "TARGET_CLASSIFICATION_MODEL: ./trained-models/mobilenetv2/vehicle-classification-by-type-mobilenetv2-fs-1-2.h5\n",
      "CHECKPOINT_PATH: ./checkpoints/mobilenetv2/by-type-mobilenetv2-fs-1-2.h5\n",
      "LOGFILE_PATH: ./log/mobilenetv2/mobilenetv2-by-type-training-log-fs-1-2.csv\n",
      "Folder already exists: ./trained-models/mobilenetv2\n",
      "Folder already exists: ./checkpoints/mobilenetv2\n",
      "Folder already exists: ./log/mobilenetv2\n"
     ]
    }
   ],
   "source": [
    "# Define variables\n",
    "TYPE = \"type\"\n",
    "model_type = \"mobilenetv2\"\n",
    "user = \"fs\"\n",
    "iteration = \"1-2\"\n",
    "TRAINED_MODELS_PATH = \"trained-models\"\n",
    "CHECK_POINTS_PATH = \"checkpoints\"\n",
    "first_time_training = True\n",
    "\n",
    "# Define the project path\n",
    "PROJECT_PATH = \"./\"\n",
    "print(f\"PROJECT_PATH: {PROJECT_PATH}\")\n",
    "\n",
    "# Construct paths using the project path and other variables\n",
    "HDF5_DATASET_PATH = (\n",
    "    f\"{PROJECT_PATH}datasets/vehicle-type-dataset-SIZE224-train-dev-test-v2.hdf5\"\n",
    ")\n",
    "print(f\"HDF5_DATASET_PATH: {HDF5_DATASET_PATH}\")\n",
    "\n",
    "ACCURACY_LOSS_OUTPUT_FILE = f\"{PROJECT_PATH}log/{model_type}/{model_type}-by-{TYPE}-accuracy-loss-{user}-{iteration}.jpg\"\n",
    "print(f\"ACCURACY_LOSS_OUTPUT_FILE: {ACCURACY_LOSS_OUTPUT_FILE}\")\n",
    "\n",
    "TARGET_CLASSIFICATION_MODEL = f\"{PROJECT_PATH}{TRAINED_MODELS_PATH}/{model_type}/vehicle-classification-by-{TYPE}-{model_type}-{user}-{iteration}.h5\"\n",
    "print(f\"TARGET_CLASSIFICATION_MODEL: {TARGET_CLASSIFICATION_MODEL}\")\n",
    "\n",
    "CHECKPOINT_PATH = f\"{PROJECT_PATH}{CHECK_POINTS_PATH}/{model_type}/by-{TYPE}-{model_type}-{user}-{iteration}.h5\"\n",
    "print(f\"CHECKPOINT_PATH: {CHECKPOINT_PATH}\")\n",
    "\n",
    "LOGFILE_PATH = f\"{PROJECT_PATH}log/{model_type}/{model_type}-by-{TYPE}-training-log-{user}-{iteration}.csv\"\n",
    "print(f\"LOGFILE_PATH: {LOGFILE_PATH}\")\n",
    "\n",
    "# Create required folders\n",
    "folders = [TRAINED_MODELS_PATH, CHECK_POINTS_PATH, \"log\"]\n",
    "create_required_folders(PROJECT_PATH, model_type, folders)"
   ]
  },
  {
   "cell_type": "markdown",
   "metadata": {},
   "source": [
    "#### Import the required utils module\n",
    "\n",
    "* Update this path if using Google Colab"
   ]
  },
  {
   "cell_type": "code",
   "execution_count": 30,
   "metadata": {},
   "outputs": [],
   "source": [
    "sys.path.append(PROJECT_PATH)\n",
    "from utils_lib  import *"
   ]
  },
  {
   "cell_type": "markdown",
   "metadata": {},
   "source": [
    "#### Loading the dataset and visualising it"
   ]
  }
 ],
 "metadata": {
  "kernelspec": {
   "display_name": "Python 3",
   "language": "python",
   "name": "python3"
  },
  "language_info": {
   "codemirror_mode": {
    "name": "ipython",
    "version": 3
   },
   "file_extension": ".py",
   "mimetype": "text/x-python",
   "name": "python",
   "nbconvert_exporter": "python",
   "pygments_lexer": "ipython3",
   "version": "3.12.1"
  }
 },
 "nbformat": 4,
 "nbformat_minor": 2
}
